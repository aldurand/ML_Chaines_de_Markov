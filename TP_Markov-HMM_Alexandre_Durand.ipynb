{
 "cells": [
  {
   "cell_type": "markdown",
   "metadata": {},
   "source": [
    "# <center>MDI341 - TP Chaînes de Markov & HMMs - 2017/2018</center>  \n",
    "## <center>Alexandre Durand</center>"
   ]
  },
  {
   "cell_type": "code",
   "execution_count": 1,
   "metadata": {
    "ExecuteTime": {
     "end_time": "2018-05-02T16:01:20.019669Z",
     "start_time": "2018-05-02T16:01:19.229664Z"
    }
   },
   "outputs": [],
   "source": [
    "import numpy as np\n",
    "import matplotlib.pyplot as plt"
   ]
  },
  {
   "cell_type": "markdown",
   "metadata": {},
   "source": [
    "# Fonctions utiles\n",
    "***\n",
    "\n",
    "##### cumsum : fonction de répartition : somme cumulative des termes du vecteur p\n",
    "```python\n",
    "np.cumsum(p)```\n",
    "\n",
    "##### random : génère un nombre aléatoire entre [0 1] selon une loi uniforme\n",
    "```python\n",
    "np.random.random()```\n",
    "\n",
    "##### load : chargement d’un fichier\n",
    "```python\n",
    "filename_A= 'bigramenglish.txt'\n",
    "np.loadtxt(filename_A)```\n",
    "\n",
    "##### Création du dictionnaire clé-valeur associant états et caractères :\n",
    "```python\n",
    "dic = {'1': ' ', '2': 'a', '3': 'b', '4': 'c', '5': 'd', '6': 'e', '7': 'f', '8': 'g', '9': 'h', '10': 'i', '11': 'j', '12': 'k', '13': 'l', '14': 'm', '15': 'n', '16': 'o', '17': 'p', '18': 'q', '19': 'r' , '20': 's', '21': 't', '22': 'u', '23': 'v', '24': 'w', '25': 'x' , '26': 'y', '27': 'z', '28': ' ' }\n",
    "```\n",
    "\n",
    "##### Inverser le dictionnaire (les valeurs deviennent les clés et réciproquement)\n",
    "```python\n",
    "dic_inv = {v: k for k, v in dic.items()}```\n"
   ]
  },
  {
   "cell_type": "code",
   "execution_count": 2,
   "metadata": {
    "ExecuteTime": {
     "end_time": "2018-05-02T16:01:20.829127Z",
     "start_time": "2018-05-02T16:01:20.817445Z"
    }
   },
   "outputs": [
    {
     "name": "stdout",
     "output_type": "stream",
     "text": [
      "{'1': ' ', '2': 'a', '3': 'b', '4': 'c', '5': 'd', '6': 'e', '7': 'f', '8': 'g', '9': 'h', '10': 'i', '11': 'j', '12': 'k', '13': 'l', '14': 'm', '15': 'n', '16': 'o', '17': 'p', '18': 'q', '19': 'r', '20': 's', '21': 't', '22': 'u', '23': 'v', '24': 'w', '25': 'x', '26': 'y', '27': 'z', '28': ' '}\n"
     ]
    }
   ],
   "source": [
    "# Création du dictionnaire clé-valeur associant états et caractères :\n",
    "dic = {'1': ' ', '2': 'a', '3': 'b', '4': 'c', '5': 'd', '6': 'e', '7': 'f', '8': 'g', '9': 'h', '10': 'i',\n",
    "       '11': 'j', '12': 'k', '13': 'l', '14': 'm', '15': 'n', '16': 'o', '17': 'p', '18': 'q', '19': 'r' , '20': 's',\n",
    "       '21': 't', '22': 'u', '23': 'v', '24': 'w', '25': 'x' , '26': 'y', '27': 'z', '28': ' ' }\n",
    "print(dic)"
   ]
  },
  {
   "cell_type": "markdown",
   "metadata": {},
   "source": [
    "# Partie 1 : Chaînes de Markov\n",
    "***\n",
    "\n",
    "## Question a) Matrice de transitions\n",
    "\n",
    "'bigramenglish.txt' contient la matrice des transitions pour l’anglais (bigrams) entre deux symboles (caractères ou espaces). Le terme générique $(i,j)$ de la matrice de transition correspond à la probabilité de transiter vers l’état $j$ à partir de l’état $i$.\n",
    "\n",
    "A quelles probabilités correspond la première ligne de la matrice de transition ? et celles de la dernière colonne ?  \n",
    "Pour chaque lettre de l’alphabet, indiquer la transition la plus fréquente depuis cette lettre."
   ]
  },
  {
   "cell_type": "code",
   "execution_count": 3,
   "metadata": {
    "ExecuteTime": {
     "end_time": "2018-05-02T16:01:21.373760Z",
     "start_time": "2018-05-02T16:01:21.355670Z"
    }
   },
   "outputs": [
    {
     "name": "stdout",
     "output_type": "stream",
     "text": [
      "shape of A = (28, 28)\n"
     ]
    }
   ],
   "source": [
    "# Chargement de la matrice de probabilité de transition pour l'anglais\n",
    "filename_A = 'bigramenglish.txt'\n",
    "A = np.loadtxt(filename_A)\n",
    "print(\"shape of A =\", A.shape)"
   ]
  },
  {
   "cell_type": "code",
   "execution_count": 4,
   "metadata": {
    "ExecuteTime": {
     "end_time": "2018-05-02T16:01:21.763049Z",
     "start_time": "2018-05-02T16:01:21.735436Z"
    },
    "scrolled": false
   },
   "outputs": [
    {
     "name": "stdout",
     "output_type": "stream",
     "text": [
      "Première ligne de A :\n",
      " [  0.00000000e+00   1.12687200e-01   4.36089430e-02   4.54545450e-02\n",
      "   3.29044510e-02   2.20944950e-02   4.17633410e-02   1.55557900e-02\n",
      "   6.44378820e-02   6.89200590e-02   3.63847290e-03   4.21851930e-03\n",
      "   2.34655140e-02   3.97595440e-02   2.28327360e-02   7.03438090e-02\n",
      "   3.10588480e-02   1.42375030e-03   2.56802360e-02   6.69162620e-02\n",
      "   1.64522250e-01   1.03881040e-02   7.06601980e-03   7.05020040e-02\n",
      "   1.05462980e-04   1.05990300e-02   5.27314910e-05   0.00000000e+00] \n",
      "\n",
      "==> transition depuis 'etat initial' la plus problable : état 21 \n",
      "\n",
      "Dernière colonne de A :\n",
      " [  0.00000000e+00   6.74781690e-02   7.10844330e-03   1.95352240e-02\n",
      "   5.98843730e-01   3.60473790e-01   3.96539630e-01   3.15667360e-01\n",
      "   1.03009260e-01   2.46066080e-02   9.58772770e-04   3.72256370e-01\n",
      "   1.53382550e-01   1.57957610e-01   2.94218720e-01   1.23081740e-01\n",
      "   6.42220840e-02   1.39664800e-03   2.10889120e-01   4.30301560e-01\n",
      "   2.22730590e-01   3.84665820e-02   9.91080280e-05   1.02162810e-01\n",
      "   1.23456790e-01   7.75829440e-01   1.91938580e-03   1.00000000e+00] \n",
      "\n",
      "==> transition précédant 'etat final' la plus problable : état 26\n",
      " (hormis la transition 'etat final' -> 'etat final', qui est avec proba=1)\n"
     ]
    }
   ],
   "source": [
    "# Etude de la première ligne de A\n",
    "print(\"Première ligne de A :\\n\", A[0, :], \"\\n\")\n",
    "print(\"==> transition depuis 'etat initial' la plus problable : état\", np.argmax(A[0, :])+1, \"\\n\")\n",
    "\n",
    "# Etude de la dernière colonne de A\n",
    "print(\"Dernière colonne de A :\\n\", A[:, -1], \"\\n\")\n",
    "print(\"==> transition précédant 'etat final' la plus problable : état\", np.argmax(A[1:27, -1])+2)\n",
    "print(\" (hormis la transition 'etat final' -> 'etat final', qui est avec proba=1)\")"
   ]
  },
  {
   "cell_type": "markdown",
   "metadata": {},
   "source": [
    "#### Réponses :\n",
    "> La première ligne de la matrice de transition correspond aux probabilités de passer de l'état 1 (espace initial) vers un des 28 états possibles.  \n",
    "On peut remarquer que $a_{1,1}$ et $a_{1,28}$ sont nulles, c'est à dire qu'il est impossible, pour un mot, d'avoir un espace initial (état 1) suivi par un autre espace initial (état 1) ou par un espace final (état 28).  \n",
    "Autrement dit, **la première ligne montre les chances qu'un mot commence par chacune des 26 lettres de l'alphabet.  \n",
    "C'est la lettre 't' (état 21) qui a le plus de chance de commencer un mot.**\n",
    "  \n",
    "  \n",
    "\n",
    "> La dernière colonne de la matrice de transition correspond aux probabilités que chacun des 28 états disponibles amène ensuite à l'état 28 (espace final).  \n",
    "On retrouve que $a_{1,28} = 0$, c'est-à-dire qu'un espace final ne peut pas être précédé d'un espace initial.  \n",
    "On voit également que $a_{28,28} = 1$, c'est-à-dire qu'un espace final induit avec probabilité de $1$ un autre espace final. C'est normal car, avec ce modèle de bigrammes, quand on arrive à la fin d'un mot, on ne veut plus changer d'état.  \n",
    "Enfin **$\\mathbf{[a_{2,28}, \\ a_{27,28}]}$ représente les chances qu'un mot se termine par chacune des 26 lettres de l'alphabet.  \n",
    "On peut voir que c'est la lettre 'y' qui a le plus de chance de terminer un mot.**"
   ]
  },
  {
   "cell_type": "code",
   "execution_count": 5,
   "metadata": {
    "ExecuteTime": {
     "end_time": "2018-05-02T16:01:22.116651Z",
     "start_time": "2018-05-02T16:01:22.081359Z"
    }
   },
   "outputs": [
    {
     "name": "stdout",
     "output_type": "stream",
     "text": [
      "Transition la plus fréquente depuis chaque lettre :\n",
      "a ==> 15 = 'n'\n",
      "b ==> 6 = 'e'\n",
      "c ==> 16 = 'o'\n",
      "d ==> 28 = ' '\n",
      "e ==> 28 = ' '\n",
      "f ==> 28 = ' '\n",
      "g ==> 28 = ' '\n",
      "h ==> 6 = 'e'\n",
      "i ==> 15 = 'n'\n",
      "j ==> 16 = 'o'\n",
      "k ==> 28 = ' '\n",
      "l ==> 6 = 'e'\n",
      "m ==> 6 = 'e'\n",
      "n ==> 28 = ' '\n",
      "o ==> 15 = 'n'\n",
      "p ==> 6 = 'e'\n",
      "q ==> 22 = 'u'\n",
      "r ==> 6 = 'e'\n",
      "s ==> 28 = ' '\n",
      "t ==> 9 = 'h'\n",
      "u ==> 19 = 'r'\n",
      "v ==> 6 = 'e'\n",
      "w ==> 2 = 'a'\n",
      "x ==> 21 = 't'\n",
      "y ==> 28 = ' '\n",
      "z ==> 6 = 'e'\n"
     ]
    }
   ],
   "source": [
    "# Pour chaque lettre de l’alphabet, indiquer la transition la plus fréquente depuis cette lettre\n",
    "\n",
    "print('Transition la plus fréquente depuis chaque lettre :')\n",
    "\n",
    "most_probable_next_state = np.argmax(A[1:27, :], axis=1) + 1\n",
    "list_alphabet = [x for x in 'abcdefghijklmnopqrstuvwxyz']\n",
    "\n",
    "for idx, c in enumerate(list_alphabet):\n",
    "    most_probable = most_probable_next_state[idx]\n",
    "    print(c, \"==>\", most_probable, \"= '%s'\" % dic[str(most_probable)])"
   ]
  },
  {
   "cell_type": "markdown",
   "metadata": {},
   "source": [
    "## Question b) Générer un mot\n",
    "\n",
    "On veut générer un mot à partir de l’état initial 1 (espace de début de mot).\n",
    "\n",
    "Ecrire une fonction ```etat_suivant``` qui génère un état (à $t+1$) à partir de l’état courant (à $t$) et à l’aide de la matrice de transitions et de la fonction de répartition.\n",
    "\n",
    "Afficher sur un graphique la fonction de répartition pour une ligne de la matrice de transition et expliquer son rôle pour la génération de l’état à $t+1$.\n",
    "\n",
    "Utiliser cette fonction pour écrire la fonction ```genere_state_seq``` qui génère une séquence d’états jusqu’à aboutir à l’état final ($28$). Ecrire une fonction ```display_seq``` qui transforme une séquence d’états en séquence de caractères, à l’aide d’un dictionnaire.\n",
    "\n",
    "Utiliser ces fonctions pour générer des mots et donner des exemples de mots générés."
   ]
  },
  {
   "cell_type": "code",
   "execution_count": 6,
   "metadata": {
    "ExecuteTime": {
     "end_time": "2018-05-02T16:01:22.783845Z",
     "start_time": "2018-05-02T16:01:22.763755Z"
    }
   },
   "outputs": [],
   "source": [
    "def etat_suivant(q_t, A):\n",
    "    \n",
    "    assert(q_t >= 1 and q_t <= A.shape[0])  # Verification que q_t est bien un état existant\n",
    "    \n",
    "    # Somme cumulée des transitions pour l'état q_t\n",
    "    cumsum_A_q_t = np.cumsum(A[q_t-1])  # -1 car index de A = 0..27 \n",
    "    \n",
    "    # Tirage d'un nombre aléatoire dans [0,1] selon une loi uniforme\n",
    "    r = np.random.random()\n",
    "    \n",
    "    # Trouve la transition correspondante\n",
    "    q_tplus1 = sum((cumsum_A_q_t < r)) + 1\n",
    "    \n",
    "    return q_tplus1"
   ]
  },
  {
   "cell_type": "code",
   "execution_count": 7,
   "metadata": {
    "ExecuteTime": {
     "end_time": "2018-05-02T16:01:23.460415Z",
     "start_time": "2018-05-02T16:01:23.447230Z"
    }
   },
   "outputs": [
    {
     "data": {
      "text/plain": [
       "9"
      ]
     },
     "execution_count": 7,
     "metadata": {},
     "output_type": "execute_result"
    }
   ],
   "source": [
    "# Test de transition depuis la lettre 't' (etat 21)\n",
    "etat_suivant(21, A)"
   ]
  },
  {
   "cell_type": "markdown",
   "metadata": {},
   "source": [
    "**Graphique de la fonction de répartition pour une ligne de la matrice de transition**\n",
    "> Vous pouvez modifier la valeur de l'état courant (q_t),  \n",
    "> ou relancer la cellule pour avoir un autre tirage aléatoire (r)"
   ]
  },
  {
   "cell_type": "code",
   "execution_count": 8,
   "metadata": {
    "ExecuteTime": {
     "end_time": "2018-05-02T17:07:26.245353Z",
     "start_time": "2018-05-02T17:07:25.932897Z"
    }
   },
   "outputs": [
    {
     "name": "stdout",
     "output_type": "stream",
     "text": [
      "Etat courant : 21\n",
      "Somme cumulative pour l'état 21 : \n",
      "[ 0.          0.03594862  0.03596119  0.03973202  0.03985771  0.12432439\n",
      "  0.12482717  0.12483974  0.46421479  0.55370925  0.55372182  0.55373438\n",
      "  0.56680661  0.56781216  0.5693205   0.65818648  0.65831218  0.65832475\n",
      "  0.68874281  0.7093567   0.72883934  0.74744212  0.74745469  0.75650469\n",
      "  0.75651726  0.77725685  0.77726942  1.00000001]\n",
      "\n",
      "Nombre aléatoire dans [0,1] : r = 0.8220833089233571\n"
     ]
    },
    {
     "data": {
      "image/png": "[encoded data removed]",
      "text/plain": [
       "<matplotlib.figure.Figure at 0x112ad8c88>"
      ]
     },
     "metadata": {},
     "output_type": "display_data"
    },
    {
     "name": "stdout",
     "output_type": "stream",
     "text": [
      "  ===> Etat suivant : 28\n"
     ]
    }
   ],
   "source": [
    "# définition d'un état courant q_t  (tester d'autres valeurs dans [1, 28] !)\n",
    "q_t = 21\n",
    "\n",
    "# Somme cumulée\n",
    "cumsum_A_q_t = np.cumsum(A[q_t-1])\n",
    "\n",
    "# Tirage aléatoire\n",
    "r = np.random.random()\n",
    "\n",
    "# Trouve l'état suivant\n",
    "q_tplus1 = sum((cumsum_A_q_t < r)) + 1\n",
    "\n",
    "\n",
    "# Affichage\n",
    "print(\"Etat courant :\", q_t)\n",
    "print(\"Somme cumulative pour l'état %s : \\n%s\\n\" % (q_t, cumsum_A_q_t))\n",
    "print(\"Nombre aléatoire dans [0,1] : r =\", r)\n",
    "\n",
    "f, ax = plt.subplots()\n",
    "ax.plot(np.arange(1, 29), cumsum_A_q_t)\n",
    "ax.annotate(\"r\", xy=(q_tplus1, r), xytext=(-5, r), arrowprops=dict(arrowstyle=\"->\"))\n",
    "ax.annotate(\"\", xy=(q_tplus1, 0), xytext=(q_tplus1, r), arrowprops=dict(arrowstyle=\"->\"))\n",
    "plt.title(\"Fonction de répartition de la transition depuis l'état %s (lettre %s)\" % (q_t, dic[str(q_t)]))\n",
    "plt.xlabel(\"Etat\")\n",
    "plt.show()\n",
    "\n",
    "print(\"  ===> Etat suivant :\", q_tplus1)"
   ]
  },
  {
   "cell_type": "markdown",
   "metadata": {},
   "source": [
    "#### Explication :\n",
    "> 1) On affiche la fonction de répartition pour l'état courant (c'est-à-dire la somme cumulée des termes de A pour la ligne correspondant à l'état courant q_t)\n",
    "\n",
    "> 2) On tire un nombre aléatoire entre 0 et 1 (r sur le graphique)\n",
    "\n",
    "> 3) On détermine l'état suivant en regardant l'état à droite de l'intersection entre la fonction de répartition et l'axe horizontal créé par r."
   ]
  },
  {
   "cell_type": "markdown",
   "metadata": {},
   "source": [
    "**Ecrire la fonction ```genere_state_seq``` qui génère une séquence d’états jusqu’à aboutir à l’état final (28)**"
   ]
  },
  {
   "cell_type": "code",
   "execution_count": 9,
   "metadata": {
    "ExecuteTime": {
     "end_time": "2018-05-02T16:01:26.715941Z",
     "start_time": "2018-05-02T16:01:26.676054Z"
    }
   },
   "outputs": [],
   "source": [
    "def genere_state_seq(A):\n",
    "    \n",
    "    seq = [1]  # création d'une liste commencant par l'état inital\n",
    "    \n",
    "    # Génération des états suivants jusqu'à tomber sur l'état final\n",
    "    while seq[-1] != A.shape[0]:\n",
    "        next_state = etat_suivant(seq[-1], A)\n",
    "        seq.append(next_state)\n",
    "    \n",
    "    return seq"
   ]
  },
  {
   "cell_type": "code",
   "execution_count": 10,
   "metadata": {
    "ExecuteTime": {
     "end_time": "2018-05-02T16:01:27.326346Z",
     "start_time": "2018-05-02T16:01:27.311375Z"
    }
   },
   "outputs": [
    {
     "data": {
      "text/plain": [
       "[1, 3, 6, 13, 6, 28]"
      ]
     },
     "execution_count": 10,
     "metadata": {},
     "output_type": "execute_result"
    }
   ],
   "source": [
    "# Test\n",
    "genere_state_seq(A)"
   ]
  },
  {
   "cell_type": "markdown",
   "metadata": {},
   "source": [
    "**Ecrire une fonction ```display_seq``` qui transforme une séquence d’états en séquence de caractères, à l’aide d’un dictionnaire**"
   ]
  },
  {
   "cell_type": "code",
   "execution_count": 11,
   "metadata": {
    "ExecuteTime": {
     "end_time": "2018-05-02T16:01:28.276592Z",
     "start_time": "2018-05-02T16:01:28.261075Z"
    }
   },
   "outputs": [],
   "source": [
    "def display_seq(state_seq, dic):\n",
    "    char_seq = [dic[str(q)] for q in state_seq]\n",
    "    return ''.join(char_seq)"
   ]
  },
  {
   "cell_type": "markdown",
   "metadata": {},
   "source": [
    "**Donner des exemples de mots générés**"
   ]
  },
  {
   "cell_type": "code",
   "execution_count": 12,
   "metadata": {
    "ExecuteTime": {
     "end_time": "2018-05-02T16:02:16.116162Z",
     "start_time": "2018-05-02T16:02:16.075822Z"
    }
   },
   "outputs": [
    {
     "name": "stdout",
     "output_type": "stream",
     "text": [
      "Exemples de mots générés :\n",
      " fr  <== [1, 7, 19, 28]\n",
      " ierndie  <== [1, 10, 6, 19, 15, 5, 10, 6, 28]\n",
      " uloviowirkn  <== [1, 22, 13, 16, 23, 10, 16, 24, 10, 19, 12, 15, 28]\n",
      " chamaly  <== [1, 4, 9, 2, 14, 2, 13, 26, 28]\n",
      " ys  <== [1, 26, 20, 28]\n",
      " t  <== [1, 21, 28]\n",
      " d  <== [1, 5, 28]\n",
      " brin  <== [1, 3, 19, 10, 15, 28]\n",
      " d  <== [1, 5, 28]\n",
      " fof  <== [1, 7, 16, 7, 28]\n"
     ]
    }
   ],
   "source": [
    "# Test de génération de mots\n",
    "nb_mots = 10  # Modifier à souhait\n",
    "\n",
    "print(\"Exemples de mots générés :\")\n",
    "for i in range(nb_mots):\n",
    "    state_seq = genere_state_seq(A)\n",
    "    char_seq = display_seq(state_seq, dic)\n",
    "    print(char_seq, \"<==\", state_seq)"
   ]
  },
  {
   "cell_type": "markdown",
   "metadata": {},
   "source": [
    "## Question c) Générer une phrase\n",
    "\n",
    "On veut générer une suite de mots (phrase).\n",
    "\n",
    "Créer un état final de phrase (état $29$, correspondant au caractère . ) dont la probabilité de transition vers cet état depuis un état final de mot est $0.1$.  \n",
    "Ecrire une fonction ```modifie_mat_dic``` qui modifie la matrice de transition et le dictionnaire en conséquence.\n",
    "\n",
    "Donner des exemples de phrases générées."
   ]
  },
  {
   "cell_type": "code",
   "execution_count": 13,
   "metadata": {
    "ExecuteTime": {
     "end_time": "2018-05-02T16:02:21.881925Z",
     "start_time": "2018-05-02T16:02:21.822483Z"
    }
   },
   "outputs": [],
   "source": [
    "def modifie_mat_dic(A, dic):\n",
    "    \n",
    "    '''\n",
    "    Fonction qui rajoute un état : 'etat final de phrase' à une matrice de transition A et un dictionnaire\n",
    "    '''\n",
    "    \n",
    "    # Modification de A\n",
    "    # -----------------\n",
    "    A_modif = np.zeros((A.shape[0]+1, A.shape[1]+1))\n",
    "    \n",
    "    # on garde identique les 27 premières lignes de A (transitions depuis état initial + les 26 lettres de l'alphabet)\n",
    "    A_modif[0:27, 0:28] = A[0:27, 0:28]\n",
    "    \n",
    "    # on passe a_28,1 à 0.9 (proba de passer d'un 'état final de mot' à un 'état initial de mot')\n",
    "    A_modif[27, 0] = 0.9\n",
    "    \n",
    "    # on passe a_28,29 à 0.1 (proba de passer d'un 'état final de mot' à un 'état final de phrase')\n",
    "    A_modif[27, 28] = 0.1\n",
    "    \n",
    "    # on passe a_29,29 à 1 (proba de passer d'un 'état final de phrase' à un 'état final de phrase')\n",
    "    A_modif[-1, -1] = 1\n",
    "    \n",
    "    \n",
    "    # Modification du dictionnaire\n",
    "    # ----------------------------\n",
    "    dic_modif = dic.copy()\n",
    "    dic_modif['29'] = '.'\n",
    "    \n",
    "    return A_modif, dic_modif"
   ]
  },
  {
   "cell_type": "code",
   "execution_count": 14,
   "metadata": {
    "ExecuteTime": {
     "end_time": "2018-05-02T16:02:24.123742Z",
     "start_time": "2018-05-02T16:02:24.114660Z"
    },
    "scrolled": true
   },
   "outputs": [
    {
     "name": "stdout",
     "output_type": "stream",
     "text": [
      "A_modif shape : (29, 29)\n",
      "Somme de chaque ligne :\n",
      " [ 1.          1.          1.          1.          1.          1.          1.\n",
      "  1.          1.00000001  1.00000001  1.          1.          0.99999999\n",
      "  1.          1.          1.          1.          1.          1.\n",
      "  0.99999999  1.00000001  1.          1.          1.00000001  0.99999999\n",
      "  1.          1.          1.          1.        ]\n",
      "\n",
      "Longueur du dictionnaire modifié : 29\n",
      "Caractère correspondant au 29eme état : '.' \n"
     ]
    }
   ],
   "source": [
    "# Vérifications\n",
    "A_modif, dic_modif = modifie_mat_dic(A, dic)\n",
    "\n",
    "print(\"A_modif shape :\", A_modif.shape)\n",
    "print(\"Somme de chaque ligne :\\n\", np.sum(A_modif, axis=1))\n",
    "print()\n",
    "print(\"Longueur du dictionnaire modifié :\", len(dic_modif))\n",
    "print(\"Caractère correspondant au 29eme état : '%s' \" % dic_modif['29'])"
   ]
  },
  {
   "cell_type": "markdown",
   "metadata": {},
   "source": [
    "#### Utilisation du nouveau Dictionnaire et Matrice de Transitions pour générer des phrases :"
   ]
  },
  {
   "cell_type": "code",
   "execution_count": 15,
   "metadata": {
    "ExecuteTime": {
     "end_time": "2018-05-02T16:02:25.409182Z",
     "start_time": "2018-05-02T16:02:25.247594Z"
    }
   },
   "outputs": [
    {
     "name": "stdout",
     "output_type": "stream",
     "text": [
      " ed  the  poof  metherofedabrgones .\n",
      "\n",
      " y  ns  ama  ig  ine  fach  athege  bi  fr  ceea  thremar  ghen  wes  ndem  an  ans  e  m  trnar  aty  cre  tereren  icks  mo  beay  s  h  t  ioupmily  amupe  oxpo  tererkn  ton  cexcad  fo  chee  hinoftan  willy  ar  rof .\n",
      "\n",
      " ana  no  and  te  stime  pry  f  letinft  s  idy  wace  t  cerane  ionk  d  te  delansle  thes  aterker .\n",
      "\n",
      " d  ide  me  poy  cobey  is  datin  waver  t  tcacat  scocatestin  reg  luth  ctthavesththisuil  ad  ofourd  adofor  is  is  om  woff  a  tin  ang  th  chesen  thas  ty  d  vatoms .\n",
      "\n",
      " m  asa  shawistr  d  wained  w  f  oren  ar  keica  crus .\n",
      "\n",
      " oncas  rd  h  ce  ille  s  waleatarer  dand  cof  tirke  ks  rorove  cof  tof .\n",
      "\n",
      " sed  lld  ns  ire  inge  in  gimomeny  ckise  t  t  fengan  therd  bithery .\n",
      "\n",
      " g  oouicualereat  isofongifucasen  ch  anang  od  histwhurvem .\n",
      "\n",
      " oves  blicerat  f  res  y  armabtengu .\n",
      "\n",
      " iceaily  fa  n  t  te .\n",
      "\n"
     ]
    }
   ],
   "source": [
    "# Test de génération de phrases\n",
    "Nb_phrases = 10\n",
    "\n",
    "for i in range(Nb_phrases):\n",
    "    char_seq = display_seq(genere_state_seq(A_modif), dic_modif)\n",
    "    print(char_seq + \"\\n\")"
   ]
  },
  {
   "cell_type": "markdown",
   "metadata": {},
   "source": [
    "#### Conclusion :\n",
    "> On peut remarquer par exemple que :\n",
    "- les mots commencent régulièrement par 't' (comme vu à la 1ère question)\n",
    "- les mots finissent régulièrement par 'y' (comme vu à la 1ère question)\n",
    "- les 't' sont régulièrement suivies d'un 'h'\n",
    "- les 'a' sont régulièrement suivies d'un 'n'\n",
    "- parfois des vrais mots apparaissent.\n",
    "\n",
    "> Tous ces indices semblent confirmer que notre implémentation est correcte."
   ]
  },
  {
   "cell_type": "markdown",
   "metadata": {},
   "source": [
    "### Question I.3. Reconnaissance de la langue\n",
    "\n",
    "**Charger la matrice des transitions entre caractères pour le français.**"
   ]
  },
  {
   "cell_type": "code",
   "execution_count": 16,
   "metadata": {
    "ExecuteTime": {
     "end_time": "2018-05-02T16:02:29.263067Z",
     "start_time": "2018-05-02T16:02:29.244858Z"
    }
   },
   "outputs": [],
   "source": [
    "# Chargement de la matrice de probabilité de transition pour le français\n",
    "filename_B = 'bigramfrancais.txt'\n",
    "A_fr = np.loadtxt(filename_B)"
   ]
  },
  {
   "cell_type": "code",
   "execution_count": 17,
   "metadata": {
    "ExecuteTime": {
     "end_time": "2018-05-02T16:02:29.535941Z",
     "start_time": "2018-05-02T16:02:29.519801Z"
    }
   },
   "outputs": [
    {
     "name": "stdout",
     "output_type": "stream",
     "text": [
      "A_fr_modif shape = (29, 29)\n",
      "Somme de chaque ligne :\n",
      " [ 0.99999999  1.          1.00000001  1.          0.99999999  1.          1.\n",
      "  1.          1.          0.99999999  0.99999999  1.          0.99999999\n",
      "  0.99999999  1.          1.          1.00000001  1.          0.99999999\n",
      "  0.99999999  1.          1.          1.          1.          0.99999999\n",
      "  1.          0.99999999  1.          1.        ]\n"
     ]
    }
   ],
   "source": [
    "# Modification de la matrice A_fr pour pouvoir générer des phrases.\n",
    "A_fr_modif, dic_modif = modifie_mat_dic(A_fr, dic)\n",
    "\n",
    "# Vérification\n",
    "print(\"A_fr_modif shape =\", A_fr_modif.shape)\n",
    "print(\"Somme de chaque ligne :\\n\", np.sum(A_fr_modif, axis=1))"
   ]
  },
  {
   "cell_type": "code",
   "execution_count": 18,
   "metadata": {
    "ExecuteTime": {
     "end_time": "2018-05-02T16:02:30.151102Z",
     "start_time": "2018-05-02T16:02:30.104091Z"
    }
   },
   "outputs": [
    {
     "name": "stdout",
     "output_type": "stream",
     "text": [
      " lstiotesas  des  veteme .\n",
      "\n",
      " l  leetibuenerogajn  anilillontes  nor  e  s  s  deu .\n",
      "\n",
      " cedecemetreprchonoutit  ppliogibimise  dentense  l  ls  d  prericen  pr  ucemeure  nsont  login  louire  len  licale  n  pau  ute  u  dunoimmmiviont  e  lont .\n",
      "\n",
      " e .\n",
      "\n",
      " plesys  oginoge  dogintioit  u  casont  qus  lescoue  oribifirireres  linontrmerosys  n  d  s  t  nt  qus .\n",
      "\n"
     ]
    }
   ],
   "source": [
    "# Test de génération de phrases depuis le modèle francais\n",
    "Nb_phrases = 5\n",
    "\n",
    "for i in range(Nb_phrases):\n",
    "    char_seq = display_seq(genere_state_seq(A_fr_modif), dic_modif)\n",
    "    print(char_seq + \"\\n\")"
   ]
  },
  {
   "cell_type": "markdown",
   "metadata": {},
   "source": [
    "**Ecrire une fonction ```calc_vraisemblance``` qui calcule la vraisemblance du modèle français pour une phrase donnée en multipliant les probabilités de transition. Pour tenir compte de toutes les transitions (notamment celles entre espaces de fin et de début de mots et vers la fin de phrase) on pourra transformer une séquence « mot1 mot2.» par la séquence « -mot1+-mot2+.», les signes - , + et . représentant l’état initial de mot, l’état final de mot et l’état final de phrase, respectivement.**"
   ]
  },
  {
   "cell_type": "code",
   "execution_count": 19,
   "metadata": {
    "ExecuteTime": {
     "end_time": "2018-05-02T16:02:35.652877Z",
     "start_time": "2018-05-02T16:02:35.634772Z"
    }
   },
   "outputs": [
    {
     "name": "stdout",
     "output_type": "stream",
     "text": [
      "Dictionnaire modifié pour calcul de vraisemblance:\n",
      " {'1': '-', '2': 'a', '3': 'b', '4': 'c', '5': 'd', '6': 'e', '7': 'f', '8': 'g', '9': 'h', '10': 'i', '11': 'j', '12': 'k', '13': 'l', '14': 'm', '15': 'n', '16': 'o', '17': 'p', '18': 'q', '19': 'r', '20': 's', '21': 't', '22': 'u', '23': 'v', '24': 'w', '25': 'x', '26': 'y', '27': 'z', '28': '+', '29': '.'} \n",
      "\n",
      "Vérification en générant une phrase depuis le modèle francais:\n",
      "-doiauer+-syppronat+-decetresicoumbiermesytous+-nes+-deur+-dojant+.\n"
     ]
    }
   ],
   "source": [
    "# Nouvelle modification du dictionnaire pour pouvoir identifier 'début de mot' et 'fin de mot'\n",
    "dic_modif_vraisemblance = dic_modif.copy()\n",
    "dic_modif_vraisemblance['1'] = '-'  # début de mot ==> '-'\n",
    "dic_modif_vraisemblance['28'] = '+'  # fin de mot ==> '+'\n",
    "print(\"Dictionnaire modifié pour calcul de vraisemblance:\\n\", dic_modif_vraisemblance, \"\\n\")\n",
    "\n",
    "print(\"Vérification en générant une phrase depuis le modèle francais:\")\n",
    "print(display_seq(genere_state_seq(A_fr_modif), dic_modif_vraisemblance))"
   ]
  },
  {
   "cell_type": "code",
   "execution_count": 20,
   "metadata": {},
   "outputs": [
    {
     "name": "stdout",
     "output_type": "stream",
     "text": [
      "Phrase à formatter : to be or not to be.\n",
      "Après formattage : -to+-be+-or+-not+-to+-be+.\n"
     ]
    }
   ],
   "source": [
    "# Définition d'un outil de formattage du texte ajoutant les caractères de début (-) et de fin (+) de mot\n",
    "#  (outil utilisé dans la fonction de calcul de vraisemblance ci-dessous)\n",
    "\n",
    "def format_sentence(sentence):\n",
    "    formatted_sentence = '-'\n",
    "    for char in sentence:\n",
    "        if char == ' ':\n",
    "            formatted_sentence += '+'\n",
    "            formatted_sentence += '-'\n",
    "        elif char == '.':\n",
    "            formatted_sentence += '+'\n",
    "            formatted_sentence += char\n",
    "        else:\n",
    "            formatted_sentence += char\n",
    "    return formatted_sentence\n",
    "\n",
    "# test function\n",
    "phrase_test = 'to be or not to be.'\n",
    "print(\"Phrase à formatter :\", phrase_test)\n",
    "print(\"Après formattage :\", format_sentence(phrase_test))"
   ]
  },
  {
   "cell_type": "code",
   "execution_count": 21,
   "metadata": {
    "ExecuteTime": {
     "end_time": "2018-05-02T16:15:00.841415Z",
     "start_time": "2018-05-02T16:15:00.788901Z"
    }
   },
   "outputs": [],
   "source": [
    "def calc_vraisemblance(sentence, A, dic):\n",
    "    \n",
    "    # Inversion du dictionnaire\n",
    "    dic_inv = {v: k for k, v in dic.items()}\n",
    "    \n",
    "    # Transformation Sentence --> state_sequence\n",
    "    state_seq = [int(dic_inv[c]) for c in format_sentence(sentence)]\n",
    "\n",
    "    # Calcul de la vraisemblance\n",
    "    vraisemblance = 1 # initialisation\n",
    "    for idx, q_t in enumerate(state_seq[:-1]):\n",
    "        q_tplus1 = state_seq[idx + 1]\n",
    "        vraisemblance *= A[q_t-1, q_tplus1-1]   # -1 car l'indexation de A commence à partir de 0\n",
    "    \n",
    "    return vraisemblance\n"
   ]
  },
  {
   "cell_type": "code",
   "execution_count": 22,
   "metadata": {
    "ExecuteTime": {
     "end_time": "2018-05-02T16:15:04.946848Z",
     "start_time": "2018-05-02T16:15:04.868550Z"
    }
   },
   "outputs": [
    {
     "name": "stdout",
     "output_type": "stream",
     "text": [
      "Phrase utilisée pour vérification :\n",
      " -bonjour+. \n",
      "\n",
      "Dictionnaire inversé :\n",
      " {'-': '1', 'a': '2', 'b': '3', 'c': '4', 'd': '5', 'e': '6', 'f': '7', 'g': '8', 'h': '9', 'i': '10', 'j': '11', 'k': '12', 'l': '13', 'm': '14', 'n': '15', 'o': '16', 'p': '17', 'q': '18', 'r': '19', 's': '20', 't': '21', 'u': '22', 'v': '23', 'w': '24', 'x': '25', 'y': '26', 'z': '27', '+': '28', '.': '29'} \n",
      "\n",
      "Séquence d'états correspondant à notre phrase :\n",
      " ['1', '3', '16', '15', '11', '16', '22', '19', '28', '29'] \n",
      "\n",
      "Séquence de transitions correspondante :\n",
      " [('1', '3'), ('3', '16'), ('16', '15'), ('15', '11'), ('11', '16'), ('16', '22'), ('22', '19'), ('19', '28'), ('28', '29')] \n",
      "\n",
      "Séquence de probabilités correspondante :\n",
      " [0.011725620000000001, 0.030991735999999999, 0.30046434999999999, 0.0024207213999999999, 0.32258065000000002, 0.21032505000000001, 0.17443811000000001, 0.15037594000000001, 0.10000000000000001] \n",
      "\n",
      "==> Vraisemblance (=produit des probabilités) = 4.7040130802e-11\n",
      "\n",
      "===============================================\n",
      "\n",
      "Vraisemblance (avec fonction codée) = 4.7040130802e-11\n"
     ]
    }
   ],
   "source": [
    "# Vérification de la bonne implémentation de la fonction 'calc_vraisemblance'\n",
    "\n",
    "sentence = \"bonjour.\"\n",
    "print(\"Phrase utilisée pour vérification :\\n\",\n",
    "      format_sentence(sentence), \"\\n\")\n",
    "\n",
    "dic_inv_vraisemblance = {v: k for k, v in dic_modif_vraisemblance.items()}\n",
    "print(\"Dictionnaire inversé :\\n\", dic_inv_vraisemblance, \"\\n\")\n",
    "\n",
    "state_seq = [dic_inv_vraisemblance[c] for c in format_sentence(sentence)]\n",
    "print(\"Séquence d'états correspondant à notre phrase :\\n\", state_seq, \"\\n\")\n",
    "\n",
    "trans_seq = []\n",
    "for idx, q_t in enumerate(state_seq[:-1]):\n",
    "    q_tplus1 = state_seq[idx + 1]\n",
    "    trans_seq.append((q_t, q_tplus1))\n",
    "print(\"Séquence de transitions correspondante :\\n\", trans_seq, \"\\n\")\n",
    "\n",
    "prob_seq = []\n",
    "for trans in trans_seq:\n",
    "    i, j = trans\n",
    "    prob_seq.append(A_fr_modif[int(i)-1, int(j)-1])\n",
    "print(\"Séquence de probabilités correspondante :\\n\", prob_seq, \"\\n\")\n",
    "\n",
    "vraisemblance = np.product(prob_seq)\n",
    "print(\"==> Vraisemblance (=produit des probabilités) =\", vraisemblance)\n",
    "\n",
    "print(\"\\n===============================================\\n\")\n",
    "\n",
    "# Verification avec notre fonction :\n",
    "vraisemblance2 = calc_vraisemblance(sentence, A_fr_modif, dic_modif_vraisemblance)\n",
    "print(\"Vraisemblance (avec fonction codée) =\", vraisemblance2)"
   ]
  },
  {
   "cell_type": "markdown",
   "metadata": {},
   "source": [
    "**Calculer la vraisemblance des modèles français et anglais pour la phrase *« to be or not to be »*. De même calculer la vraisemblance des modèles français et anglais pour la phrase *« etre ou ne pas etre »*.**"
   ]
  },
  {
   "cell_type": "code",
   "execution_count": 23,
   "metadata": {
    "ExecuteTime": {
     "end_time": "2018-05-02T16:30:15.101623Z",
     "start_time": "2018-05-02T16:30:15.088390Z"
    }
   },
   "outputs": [],
   "source": [
    "def detect_language(sentence, dic, A_fr, A_eng):\n",
    "    en_likelyhood = calc_vraisemblance(sentence, A_eng, dic)\n",
    "    fr_likelyhood = calc_vraisemblance(sentence, A_fr, dic)\n",
    "    \n",
    "    print(\"Phrase : \" + sentence)\n",
    "    print(\" ==> Vraisemblance en anglais : %s\" % en_likelyhood)\n",
    "    print(\" ==> Vraisemblance en français : %s\" % fr_likelyhood)\n",
    "    if en_likelyhood > fr_likelyhood:\n",
    "        print(\"Il est plus vraisemblable que la phrase soit en anglais\")\n",
    "    else:\n",
    "        print(\"Il est plus vraisemblable que la phrase soit en français\")"
   ]
  },
  {
   "cell_type": "code",
   "execution_count": 24,
   "metadata": {
    "ExecuteTime": {
     "end_time": "2018-05-02T16:30:15.374181Z",
     "start_time": "2018-05-02T16:30:15.369258Z"
    }
   },
   "outputs": [
    {
     "name": "stdout",
     "output_type": "stream",
     "text": [
      "Phrase : to be or not to be.\n",
      " ==> Vraisemblance en anglais : 8.11289222781e-20\n",
      " ==> Vraisemblance en français : 5.96020810187e-30\n",
      "Il est plus vraisemblable que la phrase soit en anglais\n"
     ]
    }
   ],
   "source": [
    "shakespeare_eng = \"to be or not to be.\"\n",
    "detect_language(shakespeare_eng, dic_modif_vraisemblance, A_fr_modif, A_modif)"
   ]
  },
  {
   "cell_type": "code",
   "execution_count": 25,
   "metadata": {
    "ExecuteTime": {
     "end_time": "2018-05-02T16:30:54.852745Z",
     "start_time": "2018-05-02T16:30:54.841773Z"
    }
   },
   "outputs": [
    {
     "name": "stdout",
     "output_type": "stream",
     "text": [
      "Phrase : etre ou ne pas etre.\n",
      " ==> Vraisemblance en anglais : 4.46228871178e-24\n",
      " ==> Vraisemblance en français : 1.14570688723e-19\n",
      "Il est plus vraisemblable que la phrase soit en français\n"
     ]
    }
   ],
   "source": [
    "shakespeare_fr = \"etre ou ne pas etre.\"\n",
    "detect_language(shakespeare_fr, dic_modif_vraisemblance, A_fr_modif, A_modif)"
   ]
  },
  {
   "cell_type": "markdown",
   "metadata": {},
   "source": [
    "Essayons à présent de trouver des contre-exemples en montrant une phrase en français dont la vraisemblance en anglais et supérieure à la vraisemblance en français et inversement."
   ]
  },
  {
   "cell_type": "code",
   "execution_count": 26,
   "metadata": {
    "ExecuteTime": {
     "end_time": "2018-05-02T16:38:59.803636Z",
     "start_time": "2018-05-02T16:38:59.799210Z"
    }
   },
   "outputs": [
    {
     "name": "stdout",
     "output_type": "stream",
     "text": [
      "Phrase : le the est mathematique.\n",
      " ==> Vraisemblance en anglais : 1.46383014074e-24\n",
      " ==> Vraisemblance en français : 2.42502680868e-28\n",
      "Il est plus vraisemblable que la phrase soit en anglais\n"
     ]
    }
   ],
   "source": [
    "contre_exemple = \"le the est mathematique.\"\n",
    "detect_language(contre_exemple, dic_modif_vraisemblance, A_fr_modif, A_modif)"
   ]
  },
  {
   "cell_type": "code",
   "execution_count": 27,
   "metadata": {
    "ExecuteTime": {
     "end_time": "2018-05-02T16:55:55.316066Z",
     "start_time": "2018-05-02T16:55:55.311595Z"
    }
   },
   "outputs": [
    {
     "name": "stdout",
     "output_type": "stream",
     "text": [
      "Phrase : days dullness defines our dire at last.\n",
      " ==> Vraisemblance en anglais : 3.25606218778e-45\n",
      " ==> Vraisemblance en français : 5.67434760803e-42\n",
      "Il est plus vraisemblable que la phrase soit en français\n"
     ]
    }
   ],
   "source": [
    "contre_exemple_2 = \"days dullness defines our dire at last.\"\n",
    "detect_language(contre_exemple_2, dic_modif_vraisemblance, A_fr_modif, A_modif)"
   ]
  },
  {
   "cell_type": "markdown",
   "metadata": {},
   "source": [
    "#### Conclusion :\n",
    "> Pour la phrase « to be or not to be », la vraisemlance du modèle anglais est beaucoup plus élevée que celle du modèle français.  \n",
    "> C'est l'inverse pour la phrase « etre ou ne pas etre ».\n",
    "\n",
    "> Ces résultats sont donc rassurants quant à notre implémentation.\n",
    "\n",
    "> En revanche, on voit qu'il est possible de trouver des contre-exemples en cherchant des phrases composées de mots d'une langue présentant des caractéristiques de l'autre langue. On peut alors obtenir des écarts de vraisemblance significatifs mais trompeurs.\n",
    "> Ce modèle simpliste de l'identification d'une langue a donc ses limites."
   ]
  }
 ],
 "metadata": {
  "kernelspec": {
   "display_name": "Python 3",
   "language": "python",
   "name": "python3"
  },
  "language_info": {
   "codemirror_mode": {
    "name": "ipython",
    "version": 3
   },
   "file_extension": ".py",
   "mimetype": "text/x-python",
   "name": "python",
   "nbconvert_exporter": "python",
   "pygments_lexer": "ipython3",
   "version": "3.6.4"
  },
  "varInspector": {
   "cols": {
    "lenName": 16,
    "lenType": 16,
    "lenVar": "100"
   },
   "kernels_config": {
    "python": {
     "delete_cmd_postfix": "",
     "delete_cmd_prefix": "del ",
     "library": "var_list.py",
     "varRefreshCmd": "print(var_dic_list())"
    },
    "r": {
     "delete_cmd_postfix": ") ",
     "delete_cmd_prefix": "rm(",
     "library": "var_list.r",
     "varRefreshCmd": "cat(var_dic_list()) "
    }
   },
   "types_to_exclude": [
    "module",
    "function",
    "builtin_function_or_method",
    "instance",
    "_Feature"
   ],
   "window_display": false
  }
 },
 "nbformat": 4,
 "nbformat_minor": 2
}
